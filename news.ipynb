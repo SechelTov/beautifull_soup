{
 "cells": [
  {
   "cell_type": "code",
   "execution_count": 1,
   "metadata": {},
   "outputs": [],
   "source": [
    "import requests\n",
    "from bs4 import BeautifulSoup\n",
    "import pandas as pd\n",
    "from datetime import datetime as dt\n",
    "import time\n",
    "from pandas import option_context\n"
   ]
  },
  {
   "cell_type": "code",
   "execution_count": 2,
   "metadata": {},
   "outputs": [],
   "source": [
    "def news(OLD_NEWS):\n",
    "    p = 'https://www.inn.co.il/flashes'\n",
    "    r = requests.get(p)\n",
    "    soup = BeautifulSoup(r.content)\n",
    "    soup = soup.find_all('div', {'class':\"accordeon-item__header\"} )\n",
    "    \n",
    "    for div in soup:\n",
    "        if div.text not in OLD_NEWS:\n",
    "            OLD_NEWS = [div.text] + OLD_NEWS # i want the most new to be first\n",
    "            #print (div.text)\n",
    "    return OLD_NEWS"
   ]
  },
  {
   "cell_type": "code",
   "execution_count": 5,
   "metadata": {},
   "outputs": [],
   "source": [
    "TIME_APDATE = ''\n",
    "while not TIME_APDATE:\n",
    "    try:\n",
    "        TIME_APDATE =input(\"How often do you want the news to be updated (in second):\")\n",
    "        TIME_APDATE = float(TIME_APDATE)\n",
    "    except:\n",
    "        print(\"invalid entry, try again\")\n",
    "        TIME_APDATE =input(\"How often do you want the news to be updated (in minute):\")\n",
    "LAST_NEWS = []\n",
    "while True: \n",
    "    print(dt.now())\n",
    "    LAST_NEWS_TEST = news(LAST_NEWS)\n",
    "    if LAST_NEWS != LAST_NEWS_TEST:\n",
    "        LAST_NEWS = LAST_NEWS_TEST\n",
    "        df = pd.DataFrame([ LAST_NEWS[i].split(\"\\n\")[0:2] for i in range(0,len(LAST_NEWS_TEST))],columns=['time','news'])\n",
    "        reversed_df = df.iloc[::-1]\n",
    "\n",
    "        with option_context('display.max_colwidth', 400):\n",
    "            display(reversed_df.head(15))\n",
    "    else:\n",
    "        print('not found more news')\n",
    "    time.sleep(TIME_APDATE) # now it for 20 sec only for check\n"
   ]
  },
  {
   "cell_type": "code",
   "execution_count": null,
   "metadata": {},
   "outputs": [],
   "source": []
  }
 ],
 "metadata": {
  "kernelspec": {
   "display_name": "Python 3.10.5 64-bit",
   "language": "python",
   "name": "python3"
  },
  "language_info": {
   "codemirror_mode": {
    "name": "ipython",
    "version": 3
   },
   "file_extension": ".py",
   "mimetype": "text/x-python",
   "name": "python",
   "nbconvert_exporter": "python",
   "pygments_lexer": "ipython3",
   "version": "3.10.5"
  },
  "vscode": {
   "interpreter": {
    "hash": "2a00e90e6e292990a44702b6bae13fe7b3b01e197e28a6517e6d88614134219c"
   }
  }
 },
 "nbformat": 4,
 "nbformat_minor": 4
}
