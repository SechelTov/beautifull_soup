{
 "cells": [
  {
   "cell_type": "code",
   "execution_count": 17,
   "metadata": {},
   "outputs": [],
   "source": [
    "import requests\n",
    "from bs4 import BeautifulSoup\n",
    "import pandas as pd\n",
    "from pandas import option_context\n",
    "from IPython.display import display, clear_output"
   ]
  },
  {
   "cell_type": "code",
   "execution_count": 20,
   "metadata": {},
   "outputs": [],
   "source": [
    "campus = \"https://campus.gov.il\""
   ]
  },
  {
   "cell_type": "code",
   "execution_count": 21,
   "metadata": {},
   "outputs": [],
   "source": [
    "\n",
    "def go_back(refresh=0):\n",
    "    global back \n",
    "    global url\n",
    "    global soup2\n",
    "    print(f'you visit in: {url}')\n",
    "    r = requests.get(back[-1+refresh])\n",
    "    back = soup2+[url]\n",
    "    soup = BeautifulSoup(r.content)\n",
    "    df = pd.DataFrame([ (i ,soup2[i].text) for i in range(len(soup2)-1) if soup2[i].text])\n",
    "    pd.set_option('display.max_rows',100)\n",
    "    with option_context('display.max_colwidth', 400):\n",
    "            display(df.head(10))"
   ]
  },
  {
   "cell_type": "code",
   "execution_count": 22,
   "metadata": {},
   "outputs": [],
   "source": [
    "def go(i,first_url = campus):\n",
    "\n",
    "    global back\n",
    "    global url\n",
    "    global soup2\n",
    "    try:\n",
    "        url = str(soup2[i]['href'])\n",
    "        r = requests.get(url)\n",
    "        print('go to link')\n",
    "    except:\n",
    "        \n",
    "        try:\n",
    "            url = url[7:-1]\n",
    "            r = requests.get(url)\n",
    "            print('go to addition link',url)\n",
    "        except:\n",
    "            try:\n",
    "                url = first_url+url\n",
    "                r = requests.get(url)\n",
    "                print('go to addition link',url2)\n",
    "            except:\n",
    "                try:\n",
    "                    url = first_url\n",
    "                    r = requests.get(url)\n",
    "                    exit\n",
    "                    print(\"can't go to link\")\n",
    "                except:\n",
    "\n",
    "                    print('error :',url)\n",
    "                    go_back(1)\n",
    "\n",
    "    soup = BeautifulSoup(r.content)\n",
    "    soup2 = soup.find_all('a')\n",
    "        \n",
    "    back = soup2+[url]\n",
    "\n",
    "    print(\"the url you visit\" , url)\n",
    "    df = pd.DataFrame([ (i ,soup2[i].text) for i in range(len(soup2)-1) if soup2[i].text])\n",
    "    pd.set_option('display.max_rows',200)\n",
    "    with option_context('display.max_colwidth', 400):\n",
    "            display(df.head(10))\n",
    "    \n",
    "    "
   ]
  },
  {
   "cell_type": "code",
   "execution_count": null,
   "metadata": {},
   "outputs": [],
   "source": []
  },
  {
   "cell_type": "code",
   "execution_count": 23,
   "metadata": {},
   "outputs": [],
   "source": [
    "i = 0\n",
    "while not i:\n",
    "    \n",
    "    ip_url = input(f'input url:\\n (like {campus} press enter go to campos) ')\n",
    "    id = input('the link id you want to visit -1 to go_back (to exit insert exit)')\n",
    "    clear_output(wait=False)\n",
    "    \n",
    "    if id == '-1':\n",
    "        go_back(1)\n",
    "    elif id =='exit' :\n",
    "        i = 1\n",
    "    else:\n",
    "        try:\n",
    "            go(id ,ip_url)\n",
    "        except: \n",
    "            print('erorr')\n"
   ]
  },
  {
   "cell_type": "code",
   "execution_count": 74,
   "metadata": {},
   "outputs": [
    {
     "data": {
      "text/html": [
       "<div>\n",
       "<style scoped>\n",
       "    .dataframe tbody tr th:only-of-type {\n",
       "        vertical-align: middle;\n",
       "    }\n",
       "\n",
       "    .dataframe tbody tr th {\n",
       "        vertical-align: top;\n",
       "    }\n",
       "\n",
       "    .dataframe thead th {\n",
       "        text-align: right;\n",
       "    }\n",
       "</style>\n",
       "<table border=\"1\" class=\"dataframe\">\n",
       "  <thead>\n",
       "    <tr style=\"text-align: right;\">\n",
       "      <th></th>\n",
       "      <th>0</th>\n",
       "      <th>1</th>\n",
       "    </tr>\n",
       "  </thead>\n",
       "  <tbody>\n",
       "    <tr>\n",
       "      <th>0</th>\n",
       "      <td>0</td>\n",
       "      <td>\\n\\n</td>\n",
       "    </tr>\n",
       "    <tr>\n",
       "      <th>1</th>\n",
       "      <td>1</td>\n",
       "      <td>קטלוג</td>\n",
       "    </tr>\n",
       "    <tr>\n",
       "      <th>2</th>\n",
       "      <td>2</td>\n",
       "      <td>אירועים</td>\n",
       "    </tr>\n",
       "    <tr>\n",
       "      <th>3</th>\n",
       "      <td>3</td>\n",
       "      <td>תמיכה</td>\n",
       "    </tr>\n",
       "    <tr>\n",
       "      <th>4</th>\n",
       "      <td>5</td>\n",
       "      <td>התחברות</td>\n",
       "    </tr>\n",
       "    <tr>\n",
       "      <th>5</th>\n",
       "      <td>6</td>\n",
       "      <td>הרשמה</td>\n",
       "    </tr>\n",
       "    <tr>\n",
       "      <th>6</th>\n",
       "      <td>8</td>\n",
       "      <td>עב</td>\n",
       "    </tr>\n",
       "    <tr>\n",
       "      <th>7</th>\n",
       "      <td>9</td>\n",
       "      <td>En</td>\n",
       "    </tr>\n",
       "    <tr>\n",
       "      <th>8</th>\n",
       "      <td>10</td>\n",
       "      <td>العر</td>\n",
       "    </tr>\n",
       "    <tr>\n",
       "      <th>9</th>\n",
       "      <td>14</td>\n",
       "      <td>עב</td>\n",
       "    </tr>\n",
       "  </tbody>\n",
       "</table>\n",
       "</div>"
      ],
      "text/plain": [
       "    0        1\n",
       "0   0     \\n\\n\n",
       "1   1    קטלוג\n",
       "2   2  אירועים\n",
       "3   3    תמיכה\n",
       "4   5  התחברות\n",
       "5   6    הרשמה\n",
       "6   8       עב\n",
       "7   9       En\n",
       "8  10     العر\n",
       "9  14       עב"
      ]
     },
     "metadata": {},
     "output_type": "display_data"
    }
   ],
   "source": [
    "go_back()"
   ]
  },
  {
   "cell_type": "code",
   "execution_count": 73,
   "metadata": {},
   "outputs": [
    {
     "name": "stdout",
     "output_type": "stream",
     "text": [
      "go to link\n",
      "the url you visit https://campus.gov.il/course/mse-gov-psychometry-he\n"
     ]
    },
    {
     "data": {
      "text/html": [
       "<div>\n",
       "<style scoped>\n",
       "    .dataframe tbody tr th:only-of-type {\n",
       "        vertical-align: middle;\n",
       "    }\n",
       "\n",
       "    .dataframe tbody tr th {\n",
       "        vertical-align: top;\n",
       "    }\n",
       "\n",
       "    .dataframe thead th {\n",
       "        text-align: right;\n",
       "    }\n",
       "</style>\n",
       "<table border=\"1\" class=\"dataframe\">\n",
       "  <thead>\n",
       "    <tr style=\"text-align: right;\">\n",
       "      <th></th>\n",
       "      <th>0</th>\n",
       "      <th>1</th>\n",
       "    </tr>\n",
       "  </thead>\n",
       "  <tbody>\n",
       "    <tr>\n",
       "      <th>0</th>\n",
       "      <td>0</td>\n",
       "      <td>\\n\\n</td>\n",
       "    </tr>\n",
       "    <tr>\n",
       "      <th>1</th>\n",
       "      <td>1</td>\n",
       "      <td>קטלוג</td>\n",
       "    </tr>\n",
       "    <tr>\n",
       "      <th>2</th>\n",
       "      <td>2</td>\n",
       "      <td>אירועים</td>\n",
       "    </tr>\n",
       "    <tr>\n",
       "      <th>3</th>\n",
       "      <td>3</td>\n",
       "      <td>תמיכה</td>\n",
       "    </tr>\n",
       "    <tr>\n",
       "      <th>4</th>\n",
       "      <td>5</td>\n",
       "      <td>התחברות</td>\n",
       "    </tr>\n",
       "    <tr>\n",
       "      <th>5</th>\n",
       "      <td>6</td>\n",
       "      <td>הרשמה</td>\n",
       "    </tr>\n",
       "    <tr>\n",
       "      <th>6</th>\n",
       "      <td>8</td>\n",
       "      <td>עב</td>\n",
       "    </tr>\n",
       "    <tr>\n",
       "      <th>7</th>\n",
       "      <td>9</td>\n",
       "      <td>En</td>\n",
       "    </tr>\n",
       "    <tr>\n",
       "      <th>8</th>\n",
       "      <td>10</td>\n",
       "      <td>العر</td>\n",
       "    </tr>\n",
       "    <tr>\n",
       "      <th>9</th>\n",
       "      <td>14</td>\n",
       "      <td>עב</td>\n",
       "    </tr>\n",
       "  </tbody>\n",
       "</table>\n",
       "</div>"
      ],
      "text/plain": [
       "    0        1\n",
       "0   0     \\n\\n\n",
       "1   1    קטלוג\n",
       "2   2  אירועים\n",
       "3   3    תמיכה\n",
       "4   5  התחברות\n",
       "5   6    הרשמה\n",
       "6   8       עב\n",
       "7   9       En\n",
       "8  10     العر\n",
       "9  14       עב"
      ]
     },
     "metadata": {},
     "output_type": "display_data"
    }
   ],
   "source": [
    "go(24)"
   ]
  },
  {
   "cell_type": "code",
   "execution_count": 51,
   "metadata": {},
   "outputs": [
    {
     "name": "stdout",
     "output_type": "stream",
     "text": [
      "4\n"
     ]
    }
   ],
   "source": [
    "for i in range(5):\n",
    "    clear_output(wait=False)\n",
    "    print(i)"
   ]
  },
  {
   "cell_type": "code",
   "execution_count": null,
   "metadata": {},
   "outputs": [],
   "source": []
  }
 ],
 "metadata": {
  "kernelspec": {
   "display_name": "Python 3.10.5 64-bit",
   "language": "python",
   "name": "python3"
  },
  "language_info": {
   "codemirror_mode": {
    "name": "ipython",
    "version": 3
   },
   "file_extension": ".py",
   "mimetype": "text/x-python",
   "name": "python",
   "nbconvert_exporter": "python",
   "pygments_lexer": "ipython3",
   "version": "3.10.5"
  },
  "vscode": {
   "interpreter": {
    "hash": "2a00e90e6e292990a44702b6bae13fe7b3b01e197e28a6517e6d88614134219c"
   }
  }
 },
 "nbformat": 4,
 "nbformat_minor": 4
}
